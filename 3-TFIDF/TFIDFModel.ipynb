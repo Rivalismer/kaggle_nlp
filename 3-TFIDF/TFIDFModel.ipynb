{
 "cells": [
  {
   "cell_type": "code",
   "execution_count": 1,
   "id": "3db9407b-55c8-4566-a26d-3cdeaa883f6c",
   "metadata": {},
   "outputs": [],
   "source": [
    "# Rather than using the basic model, we here compute based on the Term-Frequency Inverse-Document-Frequency (TFIDF)\n",
    "# This means that words that have low semantic meaning are downprioritised in weighing\n",
    "# In practice this would be better for longer texts perhaps?\n",
    "import numpy as np\n",
    "import pandas as pd\n",
    "from sklearn import *"
   ]
  },
  {
   "cell_type": "code",
   "execution_count": 11,
   "id": "1820e088-5f18-4964-b7a3-249d8ff1c3a8",
   "metadata": {},
   "outputs": [],
   "source": [
    "# Get data\n",
    "test_df = pd.read_csv(\"../0-Data/test.csv\")\n",
    "train_df = pd.read_csv(\"../0-Data/train.csv\")\n",
    "\n",
    "# Make into vectors\n",
    "vectorizer = feature_extraction.text.TfidfVectorizer()\n",
    "train_vec = vectorizer.fit_transform(train_df[\"text\"])\n",
    "test_vec = vectorizer.transform(test_df[\"text\"])"
   ]
  },
  {
   "cell_type": "code",
   "execution_count": 14,
   "id": "57d0307f-c26f-42f4-a516-4ec92293d1da",
   "metadata": {},
   "outputs": [
    {
     "name": "stdout",
     "output_type": "stream",
     "text": [
      "(1, 21637)\n",
      "[[0. 0. 0. ... 0. 0. 0.]]\n"
     ]
    },
    {
     "data": {
      "text/plain": [
       "matrix([[0., 0., 0., ..., 0., 0., 0.],\n",
       "        [0., 0., 0., ..., 0., 0., 0.],\n",
       "        [0., 0., 0., ..., 0., 0., 0.],\n",
       "        ...,\n",
       "        [0., 0., 0., ..., 0., 0., 0.],\n",
       "        [0., 0., 0., ..., 0., 0., 0.],\n",
       "        [0., 0., 0., ..., 0., 0., 0.]])"
      ]
     },
     "execution_count": 14,
     "metadata": {},
     "output_type": "execute_result"
    }
   ],
   "source": [
    "# Inspect results\n",
    "print(train_vec[0].todense().shape)\n",
    "print(train_vec[0].todense())"
   ]
  },
  {
   "cell_type": "code",
   "execution_count": 5,
   "id": "5305b3c3-2b70-48b0-b5b6-9ad97668eaa5",
   "metadata": {},
   "outputs": [
    {
     "data": {
      "text/plain": [
       "array([0.63366337, 0.6122449 , 0.68442211])"
      ]
     },
     "execution_count": 5,
     "metadata": {},
     "output_type": "execute_result"
    }
   ],
   "source": [
    "# Build model\n",
    "clf = linear_model.RidgeClassifier()\n",
    "scores = model_selection.cross_val_score(clf, train_vec, train_df[\"target\"], cv=3, scoring=\"f1\")\n",
    "scores"
   ]
  },
  {
   "cell_type": "code",
   "execution_count": 10,
   "id": "4ea4deca-8282-4915-bcd8-e139d27426ba",
   "metadata": {},
   "outputs": [
    {
     "data": {
      "text/html": [
       "<div>\n",
       "<style scoped>\n",
       "    .dataframe tbody tr th:only-of-type {\n",
       "        vertical-align: middle;\n",
       "    }\n",
       "\n",
       "    .dataframe tbody tr th {\n",
       "        vertical-align: top;\n",
       "    }\n",
       "\n",
       "    .dataframe thead th {\n",
       "        text-align: right;\n",
       "    }\n",
       "</style>\n",
       "<table border=\"1\" class=\"dataframe\">\n",
       "  <thead>\n",
       "    <tr style=\"text-align: right;\">\n",
       "      <th></th>\n",
       "      <th>id</th>\n",
       "      <th>target</th>\n",
       "    </tr>\n",
       "  </thead>\n",
       "  <tbody>\n",
       "    <tr>\n",
       "      <th>0</th>\n",
       "      <td>0</td>\n",
       "      <td>1</td>\n",
       "    </tr>\n",
       "    <tr>\n",
       "      <th>1</th>\n",
       "      <td>2</td>\n",
       "      <td>1</td>\n",
       "    </tr>\n",
       "    <tr>\n",
       "      <th>2</th>\n",
       "      <td>3</td>\n",
       "      <td>1</td>\n",
       "    </tr>\n",
       "    <tr>\n",
       "      <th>3</th>\n",
       "      <td>9</td>\n",
       "      <td>0</td>\n",
       "    </tr>\n",
       "    <tr>\n",
       "      <th>4</th>\n",
       "      <td>11</td>\n",
       "      <td>1</td>\n",
       "    </tr>\n",
       "  </tbody>\n",
       "</table>\n",
       "</div>"
      ],
      "text/plain": [
       "   id  target\n",
       "0   0       1\n",
       "1   2       1\n",
       "2   3       1\n",
       "3   9       0\n",
       "4  11       1"
      ]
     },
     "execution_count": 10,
     "metadata": {},
     "output_type": "execute_result"
    }
   ],
   "source": [
    "# Build submission\n",
    "clf.fit(train_vec, train_df[\"target\"])\n",
    "sample_sub = pd.read_csv(\"../0-Data/sample_submission.csv\")\n",
    "sample_sub[\"target\"] = clf.predict(test_vec)\n",
    "sample_sub.head()"
   ]
  },
  {
   "cell_type": "code",
   "execution_count": null,
   "id": "af59afdd-4733-4faa-9489-aa1e1653e9e9",
   "metadata": {},
   "outputs": [],
   "source": [
    "# Make into csv\n",
    "sample_sub.to_csv(\"../0-Data/submission.csv\", index = False)"
   ]
  }
 ],
 "metadata": {
  "kernelspec": {
   "display_name": "Python 3 (ipykernel)",
   "language": "python",
   "name": "python3"
  },
  "language_info": {
   "codemirror_mode": {
    "name": "ipython",
    "version": 3
   },
   "file_extension": ".py",
   "mimetype": "text/x-python",
   "name": "python",
   "nbconvert_exporter": "python",
   "pygments_lexer": "ipython3",
   "version": "3.10.5"
  }
 },
 "nbformat": 4,
 "nbformat_minor": 5
}
