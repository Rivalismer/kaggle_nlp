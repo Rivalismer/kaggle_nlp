{
 "cells": [
  {
   "cell_type": "code",
   "execution_count": 1,
   "id": "882f3be8-a6fa-478c-aa4a-699de548b2a3",
   "metadata": {},
   "outputs": [],
   "source": [
    "# In this section we will be using Latent Semantic Analysis (LSA). LSA means to correlate the meaning - that is the topic - of the words\n",
    "# to the output. As such, it requires an analysis of the context of the statement compared to the words used.\n",
    "import numpy as np\n",
    "import pandas as pd\n",
    "import re\n",
    "import nltk\n",
    "from nltk.corpus import stopwords\n",
    "from sklearn import *"
   ]
  },
  {
   "cell_type": "code",
   "execution_count": 2,
   "id": "426b4213-9633-4d4c-bcfd-caf3f55b87d9",
   "metadata": {},
   "outputs": [
    {
     "data": {
      "text/plain": [
       "0       Our Deeds are the Reason of this #earthquake M...\n",
       "1                  Forest fire near La Ronge Sask. Canada\n",
       "2       All residents asked to 'shelter in place' are ...\n",
       "3       13,000 people receive #wildfires evacuation or...\n",
       "4       Just got sent this photo from Ruby #Alaska as ...\n",
       "                              ...                        \n",
       "7608    Two giant cranes holding a bridge collapse int...\n",
       "7609    @aria_ahrary @TheTawniest The out of control w...\n",
       "7610    M1.94 [01:04 UTC]?5km S of Volcano Hawaii. htt...\n",
       "7611    Police investigating after an e-bike collided ...\n",
       "7612    The Latest: More Homes Razed by Northern Calif...\n",
       "Name: text, Length: 7613, dtype: object"
      ]
     },
     "execution_count": 2,
     "metadata": {},
     "output_type": "execute_result"
    }
   ],
   "source": [
    "# Get data\n",
    "test_df = pd.read_csv(\"../0-Data/test.csv\")\n",
    "train_df = pd.read_csv(\"../0-Data/train.csv\")\n",
    "\n",
    "train_df.head()\n",
    "train_df[\"text\"]"
   ]
  },
  {
   "cell_type": "code",
   "execution_count": 3,
   "id": "a0d14306-776a-4181-a85a-709b2e8dab3d",
   "metadata": {},
   "outputs": [],
   "source": [
    "# Pre-processing\n",
    "def simple_preprocessing(text):\n",
    "    text = re.sub('[$(.%),;!?]+','', text) #Remove common punctuation\n",
    "    return text\n",
    "\n",
    "new_train_df = [simple_preprocessing(txt.lower()) for txt in train_df[\"text\"]]"
   ]
  },
  {
   "cell_type": "code",
   "execution_count": 4,
   "id": "8be1896b-686b-4010-b9da-143d65268cdb",
   "metadata": {},
   "outputs": [],
   "source": [
    "# Make into vectors\n",
    "stopword_list = stopwords.words('english')\n",
    "vector = feature_extraction.text.CountVectorizer(max_df=0.7, min_df=5, token_pattern=\"[a-z']+\", \n",
    "                      stop_words=stopword_list, max_features=2000) # Only top 2000 most frequently ocurring words are considered\n",
    "train_vec = vector.fit_transform(new_train_df)\n",
    "#train_vec = vector.fit_transform(train_df[\"text\"])\n",
    "test_vec = vector.transform(test_df[\"text\"])"
   ]
  },
  {
   "cell_type": "code",
   "execution_count": 5,
   "id": "3ae5dd9e-d3cd-4133-8c74-fdd3099f0ef0",
   "metadata": {},
   "outputs": [],
   "source": [
    "# Set up single value decomposition (SVD)\n",
    "tsvd = decomposition.TruncatedSVD(n_components=train_vec.shape[1])\n",
    "tsvd.fit(train_vec)\n",
    "tsvd_mat = tsvd.transform(train_vec)"
   ]
  },
  {
   "cell_type": "code",
   "execution_count": 6,
   "id": "910fcc10-3f1f-404a-ab23-9e0247462c3b",
   "metadata": {},
   "outputs": [
    {
     "data": {
      "text/plain": [
       "array([0.5961945 , 0.55705636, 0.6167693 ])"
      ]
     },
     "execution_count": 6,
     "metadata": {},
     "output_type": "execute_result"
    }
   ],
   "source": [
    "# Build model\n",
    "clf = linear_model.RidgeClassifier()\n",
    "scores = model_selection.cross_val_score(clf, tsvd_mat, train_df[\"target\"], cv=3, scoring=\"f1\")\n",
    "scores"
   ]
  },
  {
   "cell_type": "code",
   "execution_count": null,
   "id": "b486653a-ddcb-41c5-8e98-83c8b65b96d6",
   "metadata": {},
   "outputs": [],
   "source": []
  }
 ],
 "metadata": {
  "kernelspec": {
   "display_name": "Python 3 (ipykernel)",
   "language": "python",
   "name": "python3"
  },
  "language_info": {
   "codemirror_mode": {
    "name": "ipython",
    "version": 3
   },
   "file_extension": ".py",
   "mimetype": "text/x-python",
   "name": "python",
   "nbconvert_exporter": "python",
   "pygments_lexer": "ipython3",
   "version": "3.10.5"
  }
 },
 "nbformat": 4,
 "nbformat_minor": 5
}
